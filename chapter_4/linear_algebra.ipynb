{
 "cells": [
  {
   "cell_type": "code",
   "execution_count": 1,
   "metadata": {},
   "outputs": [],
   "source": [
    "from typing import List"
   ]
  },
  {
   "cell_type": "code",
   "execution_count": 2,
   "metadata": {},
   "outputs": [],
   "source": [
    "# representing vectors as lists of floats\n",
    "Vector = List[float]\n",
    "\n",
    "height_weight_age = [\n",
    "\t74,  # inches\n",
    "\t180,  # pounds\n",
    "\t40,  # years\n",
    "]\n",
    "grades = [\n",
    "\t95,  # exam 1\n",
    "\t80,  # exam  2\n",
    "\t75,  # exam 3\n",
    "\t85,  # exam 4\n",
    "]"
   ]
  },
  {
   "cell_type": "code",
   "execution_count": 3,
   "metadata": {},
   "outputs": [],
   "source": [
    "# a function to compute adding vectors\n",
    "def add(v: Vector, w: Vector) -> Vector:\n",
    "\t\"\"\"this fuctor takes two vectors and returns their sum\"\"\"\n",
    "\tassert len(v) == len(w), 'Vectors must be of the same length'\n",
    "\treturn [v_i + w_i for v_i, w_i in zip(v, w)]\n",
    "\n",
    "\n",
    "assert add([1, 2, 3], [4, 5, 6]) == [5, 7, 9], 'Test case failed'"
   ]
  },
  {
   "cell_type": "code",
   "execution_count": 4,
   "metadata": {},
   "outputs": [],
   "source": [
    "# we can subtract vectors in a similar way\n",
    "def subtract(v: Vector, w: Vector) -> Vector:\n",
    "\t\"\"\"this function takes two vectors and returns their difference\"\"\"\n",
    "\tassert len(v) == len(w), 'Vectors must be of the same length'\n",
    "\treturn [v_i - w_i for v_i, w_i in zip(v, w)]\n",
    "\n",
    "\n",
    "assert subtract([4, 5, 6], [1, 2, 3]) == [3, 3, 3], 'Test case failed'"
   ]
  },
  {
   "cell_type": "code",
   "execution_count": 5,
   "metadata": {},
   "outputs": [],
   "source": [
    "# a componentewise sum of vectors\n",
    "def vector_sum(vectors: List[Vector]) -> Vector:\n",
    "\t\"\"\"a componentwise sum of vectors is a vector that sums the corresponding elements of the input vectors i.e all the first elements, all the second elements, etc.\"\"\"\n",
    "\t# check if the input is empty\n",
    "\tassert vectors, 'no vectors provided'\n",
    "\t# check if all vectors are of the same length\n",
    "\tnum_elements = len(vectors[0])\n",
    "\tassert all(len(v) == num_elements for v in vectors), (\n",
    "\t\t'all vectors must be of the same length'\n",
    "\t)\n",
    "\n",
    "\treturn [sum(vector[i] for vector in vectors) for i in range(num_elements)]\n",
    "\n",
    "\n",
    "assert vector_sum([[1, 2], [3, 4], [5, 6]]) == [9, 12], 'Test case failed'"
   ]
  },
  {
   "cell_type": "code",
   "execution_count": 6,
   "metadata": {},
   "outputs": [],
   "source": [
    "def scaler_multiply(c: float, v: Vector) -> Vector:\n",
    "\t\"\"\"this function takes a scalar and a vector and returns the product of the two\"\"\"\n",
    "\treturn [c * v_i for v_i in v]\n",
    "\n",
    "\n",
    "assert scaler_multiply(2, [1, 2, 3]) == [2, 4, 6], 'Test case failed'"
   ]
  },
  {
   "cell_type": "code",
   "execution_count": 7,
   "metadata": {},
   "outputs": [],
   "source": [
    "def vector_mean(vectors: List[Vector]) -> Vector:\n",
    "\t\"\"\"this function takes a list of vectors and returns their mean\"\"\"\n",
    "\tn = len(vectors)\n",
    "\treturn scaler_multiply(1 / n, vector_sum(vectors))\n",
    "\n",
    "\n",
    "assert vector_mean([[1, 2], [3, 4], [5, 6]]) == [3, 4], 'Test case failed'"
   ]
  },
  {
   "cell_type": "code",
   "execution_count": 8,
   "metadata": {},
   "outputs": [],
   "source": [
    "def dot(v: Vector, w: Vector) -> float:\n",
    "\t\"\"\"this function takes two vectors and returns their dot product\"\"\"\n",
    "\tassert len(v) == len(w), 'Vectors must be of the same length'\n",
    "\treturn sum(v_i * w_i for v_i, w_i in zip(v, w))\n",
    "\n",
    "\n",
    "assert dot([1, 2, 3], [4, 5, 6]) == 32, 'Test case failed'"
   ]
  },
  {
   "cell_type": "code",
   "execution_count": 9,
   "metadata": {},
   "outputs": [],
   "source": [
    "def sum_of_squares(v: Vector) -> float:\n",
    "\t\"\"\"this function takes a vector and returns the sum of its squares\"\"\"\n",
    "\treturn dot(v, v)\n",
    "\n",
    "\n",
    "assert sum_of_squares([1, 2, 3]) == 14, 'Test case failed'"
   ]
  },
  {
   "cell_type": "code",
   "execution_count": 10,
   "metadata": {},
   "outputs": [],
   "source": [
    "# to compute the magnitude of a vector, we can use the sum of squares function\n",
    "import math\n",
    "\n",
    "\n",
    "def magnitude(v: Vector) -> float:\n",
    "\t\"\"\"this function takes a vector and returns its magnitude\"\"\"\n",
    "\treturn math.sqrt(sum_of_squares(v))\n",
    "\n",
    "\n",
    "assert magnitude([3, 4]) == 5, 'Test case failed'"
   ]
  },
  {
   "cell_type": "code",
   "execution_count": 11,
   "metadata": {},
   "outputs": [
    {
     "data": {
      "text/plain": [
       "9"
      ]
     },
     "execution_count": 11,
     "metadata": {},
     "output_type": "execute_result"
    }
   ],
   "source": [
    "3 * 3"
   ]
  },
  {
   "cell_type": "code",
   "execution_count": 12,
   "metadata": {},
   "outputs": [
    {
     "data": {
      "text/plain": [
       "16"
      ]
     },
     "execution_count": 12,
     "metadata": {},
     "output_type": "execute_result"
    }
   ],
   "source": [
    "4 * 4"
   ]
  },
  {
   "cell_type": "code",
   "execution_count": 13,
   "metadata": {},
   "outputs": [
    {
     "data": {
      "text/plain": [
       "25"
      ]
     },
     "execution_count": 13,
     "metadata": {},
     "output_type": "execute_result"
    }
   ],
   "source": [
    "16 + 9"
   ]
  },
  {
   "cell_type": "code",
   "execution_count": 14,
   "metadata": {},
   "outputs": [
    {
     "data": {
      "text/plain": [
       "5.0"
      ]
     },
     "execution_count": 14,
     "metadata": {},
     "output_type": "execute_result"
    }
   ],
   "source": [
    "math.sqrt(25)"
   ]
  },
  {
   "cell_type": "code",
   "execution_count": 15,
   "metadata": {},
   "outputs": [],
   "source": [
    "def squared_distance(v: Vector, w: Vector) -> float:\n",
    "\t\"\"\"this function takes two vectors and returns the squared distance between them\"\"\"\n",
    "\treturn sum_of_squares(subtract(v, w))\n",
    "\n",
    "\n",
    "def distance(v: Vector, w: Vector) -> float:\n",
    "\t\"\"\"this function takes two vectors and returns the distance between them\"\"\"\n",
    "\treturn math.sqrt(squared_distance(v, w))\n",
    "\n",
    "\n",
    "# can be rewritten as\n",
    "def distance(v: Vector, w: Vector) -> float:\n",
    "\t\"\"\"this function takes two vectors and returns the distance between them\"\"\"\n",
    "\treturn magnitude(subtract(v, w))"
   ]
  },
  {
   "cell_type": "markdown",
   "metadata": {},
   "source": [
    "## MATRICES"
   ]
  },
  {
   "cell_type": "code",
   "execution_count": 16,
   "metadata": {},
   "outputs": [],
   "source": [
    "Matrix = List[List[float]]  # a matrix is a list of lists of floats\n",
    "\n",
    "A = [[1, 2, 3], [4, 5, 6], [7, 8, 9]]  # 3x3 matrix\n",
    "B = [[9, 8], [6, 5], [3, 2]]  # 3x2 matrix\n",
    "C = [[1, 2], [3, 4]]  # 2x2 matrix"
   ]
  },
  {
   "cell_type": "code",
   "execution_count": 17,
   "metadata": {},
   "outputs": [],
   "source": [
    "from typing import Tuple\n",
    "\n",
    "\n",
    "def shape(A: Matrix) -> Tuple[int, int]:\n",
    "\t\"\"\"this function takes a matrix and returns its shape similar to the shape function in numpy\"\"\"\n",
    "\tnum_rows = len(A)\n",
    "\tnum_cols = len(A[0]) if A else 0\n",
    "\treturn num_rows, num_cols\n",
    "\n",
    "\n",
    "assert shape(A) == (3, 3), 'Test case failed'\n",
    "assert shape(B) == (3, 2), 'Test case failed'\n",
    "assert shape(C) == (2, 2), 'Test case failed'\n",
    "assert shape([]) == (0, 0), 'Test case failed'"
   ]
  },
  {
   "cell_type": "code",
   "execution_count": 18,
   "metadata": {},
   "outputs": [],
   "source": [
    "def get_row(A: Matrix, i: int) -> Vector:\n",
    "\t\"\"\"this function takes a matrix and an index and returns the ith row of the matrix\"\"\"\n",
    "\treturn A[i]\n",
    "\n",
    "\n",
    "assert get_row(A, 0) == [1, 2, 3], 'Test case failed'"
   ]
  },
  {
   "cell_type": "code",
   "execution_count": 19,
   "metadata": {},
   "outputs": [],
   "source": [
    "def get_column(A: Matrix, j: int) -> Vector:\n",
    "\t\"\"\"this function takes a matrix and an index and returns the jth column of the matrix\"\"\"\n",
    "\treturn [A_i[j] for A_i in A]\n",
    "\n",
    "\n",
    "assert get_column(A, 0) == [1, 4, 7], 'Test case failed'"
   ]
  },
  {
   "cell_type": "code",
   "execution_count": 20,
   "metadata": {},
   "outputs": [],
   "source": [
    "# a function to create a matrix\n",
    "\n",
    "from typing import Callable\n",
    "\n",
    "\n",
    "def make_matrix(\n",
    "\tnum_rows: int, num_cols: int, entry_fn: Callable[[int, int], float]\n",
    ") -> Matrix:\n",
    "\t\"\"\"this function takes the number of rows and columns and a function that takes the row and column indices and returns the entry at that position\"\"\"\n",
    "\treturn [[entry_fn(i, j) for j in range(num_cols)] for i in range(num_rows)]"
   ]
  },
  {
   "cell_type": "code",
   "execution_count": 21,
   "metadata": {},
   "outputs": [],
   "source": [
    "def identity_matrix(n: int) -> Matrix:\n",
    "\t\"\"\"this function takes a number and returns the identity matrix of that size\"\"\"\n",
    "\treturn make_matrix(n, n, lambda i, j: 1 if i == j else 0)\n",
    "\n",
    "\n",
    "assert identity_matrix(3) == [[1, 0, 0], [0, 1, 0], [0, 0, 1]], 'Test case failed'"
   ]
  },
  {
   "cell_type": "code",
   "execution_count": null,
   "metadata": {},
   "outputs": [],
   "source": []
  }
 ],
 "metadata": {
  "kernelspec": {
   "display_name": "deeplearn",
   "language": "python",
   "name": "python3"
  },
  "language_info": {
   "codemirror_mode": {
    "name": "ipython",
    "version": 3
   },
   "file_extension": ".py",
   "mimetype": "text/x-python",
   "name": "python",
   "nbconvert_exporter": "python",
   "pygments_lexer": "ipython3",
   "version": "3.10.16"
  }
 },
 "nbformat": 4,
 "nbformat_minor": 2
}
